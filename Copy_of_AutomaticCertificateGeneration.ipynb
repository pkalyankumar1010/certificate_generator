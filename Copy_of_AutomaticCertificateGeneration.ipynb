{
  "nbformat": 4,
  "nbformat_minor": 0,
  "metadata": {
    "colab": {
      "provenance": [],
      "include_colab_link": true
    },
    "kernelspec": {
      "name": "python3",
      "display_name": "Python 3"
    },
    "language_info": {
      "name": "python"
    }
  },
  "cells": [
    {
      "cell_type": "markdown",
      "metadata": {
        "id": "view-in-github",
        "colab_type": "text"
      },
      "source": [
        "<a href=\"https://colab.research.google.com/github/pkalyankumar1010/certificate_generator/blob/main/Copy_of_AutomaticCertificateGeneration.ipynb\" target=\"_parent\"><img src=\"https://colab.research.google.com/assets/colab-badge.svg\" alt=\"Open In Colab\"/></a>"
      ]
    },
    {
      "cell_type": "markdown",
      "metadata": {
        "id": "iq754PUtSQHg"
      },
      "source": [
        "# This is property of ElectronicsForYou.com and its associates.\n",
        "Vijaykumar Sajjanar\n",
        "hi.vjkr@gmail.com / ec.vijaykumar@bldeacet.ac.in\n",
        "RajinderKumar Math\n",
        "rajindermath@gmail.com\n",
        "BLDEACET, www.bldeacet.ac.in"
      ]
    },
    {
      "cell_type": "code",
      "metadata": {
        "id": "lbA6vwU1SFu2"
      },
      "source": [
        "# Code to access files from GoogleDrive\n",
        "# You will be prompted for authorization from Google SDK. Please authorize using your Gmail ID\n",
        "\n",
        "!pip install -U -q PyDrive\n",
        "from pydrive.auth import GoogleAuth\n",
        "from pydrive.drive import GoogleDrive\n",
        "from google.colab import auth\n",
        "from oauth2client.client import GoogleCredentials\n",
        "\n",
        "auth.authenticate_user()\n",
        "gauth = GoogleAuth()\n",
        "gauth.credentials = GoogleCredentials.get_application_default()\n",
        "drive = GoogleDrive(gauth)"
      ],
      "execution_count": null,
      "outputs": []
    },
    {
      "cell_type": "markdown",
      "metadata": {
        "id": "Sj8JilUQexQk"
      },
      "source": [
        "# id and file name for Google responses sheet\n",
        "refer EFY article for making changes"
      ]
    },
    {
      "cell_type": "code",
      "metadata": {
        "id": "-mM1INrzVAp5",
        "outputId": "11801af4-c563-451e-a882-9fb9da46c196",
        "colab": {
          "base_uri": "https://localhost:8080/"
        }
      },
      "source": [
        "##############################\n",
        "# For Beginners\n",
        "# Type test to test the code \n",
        "##############################\n",
        "# For Proficients\n",
        "# Type new and make changes\n",
        "#############################\n",
        "selectresponses=input('do you want to test the code or work on your new google responses? Answer test or new....')\n",
        "if selectresponses=='test':\n",
        "  fileDownloaded = drive.CreateFile({'id':'1WDmI18_XPp0JVW5CmAcimbgf3iS5IggfQ31siqWIp0E'})\n",
        "  fileDownloaded.GetContentFile('OnlineResponses.csv', mimetype='text/csv')\n",
        "  import pandas as pd\n",
        "  df = pd.read_csv('OnlineResponses.csv')\n",
        "  print('Google Responses saved in Pandas dataframe')\n",
        "elif selectresponses=='new':\n",
        "  print('file id of a Google Responses is part of URL and is obtained from URL as below')\n",
        "  print('if URL is https://docs.google.com/spreadsheets/d/1WDmI18_XPp0JVW5CmBcimbgf3iY1IggfQ31siqWIp0E/edit#gid=0')\n",
        "  print('https://docs.google.com/spreadsheets/d/<---------------file id------------------------------>/edit#gid=0')\n",
        "  print('enter file id as 1WDmI18_XPp0JVW5CmBcimbgf3iY1IggfQ31siqWIp0E ')\n",
        "  fileid=input('provide file id from URL=')\n",
        "  csvid=input('provide name of responses file=')\n",
        "  fileDownloaded = drive.CreateFile({'id': fileid})\n",
        "  fileDownloaded.GetContentFile(csvid + '.csv', mimetype='text/csv')\n",
        "  import pandas as pd\n",
        "  df = pd.read_csv(csvid + '.csv')\n",
        "  print('Google Responses saved in Pandas dataframe')\n",
        "else:\n",
        "  print('error: Enter test or new')"
      ],
      "execution_count": null,
      "outputs": [
        {
          "output_type": "stream",
          "name": "stdout",
          "text": [
            "do you want to test the code or work on your new google responses? Answer test or new....test\n",
            "Google Responses saved in Pandas dataframe\n"
          ]
        }
      ]
    },
    {
      "cell_type": "markdown",
      "metadata": {
        "id": "-meTAP27e2mq"
      },
      "source": [
        "# Visuaize the dataframe"
      ]
    },
    {
      "cell_type": "code",
      "metadata": {
        "id": "oCHHm8uaVWVm",
        "outputId": "c4eb75f8-9a6f-4179-e66d-7470860cd42a",
        "colab": {
          "base_uri": "https://localhost:8080/",
          "height": 300
        }
      },
      "source": [
        "df"
      ],
      "execution_count": null,
      "outputs": [
        {
          "output_type": "execute_result",
          "data": {
            "text/plain": [
              "             Timestamp                 Email Address    Score  \\\n",
              "0  16/08/2021 10:43:28             hi.vjkr@gmail.com  60 / 60   \n",
              "1  16/08/2021 10:46:40  ec.vijaykumar@bldeacet.ac.in  60 / 60   \n",
              "2  16/08/2021 10:55:19        rajindermath@gmail.com  60 / 60   \n",
              "3  18/08/2021 10:07:06             hi.vjkr@gmail.com  50 / 60   \n",
              "4  18/08/2021 10:08:48  ec.vijaykumar@bldeacet.ac.in  50 / 60   \n",
              "5  18/08/2021 10:11:35        rajindermath@gmail.com  40 / 60   \n",
              "6  18/08/2021 10:15:27             hi.vjkr@gmail.com  40 / 60   \n",
              "7  18/08/2021 10:18:30  ec.vijaykumar@bldeacet.ac.in  60 / 60   \n",
              "\n",
              "                      Name         USN Semester  \n",
              "0           Nischal Sajjan  2bl05ec086       II  \n",
              "1  Avni RajinderKumar Math  2bl05ec086       II  \n",
              "2                   Atharv  2bl05ec086       VI  \n",
              "3            Mallikarjun D  2bl05ec086       II  \n",
              "4               Achyut S Y  2bl05ec086       IV  \n",
              "5      Vijaykumar Sajjanar  2bl05ec086       IV  \n",
              "6            Rajinder Math  2bl05ec086       IV  \n",
              "7               Hatti Ravi  2bl05ec086       IV  "
            ],
            "text/html": [
              "\n",
              "  <div id=\"df-bf3334fa-1377-4048-8fb2-0c1b09284273\">\n",
              "    <div class=\"colab-df-container\">\n",
              "      <div>\n",
              "<style scoped>\n",
              "    .dataframe tbody tr th:only-of-type {\n",
              "        vertical-align: middle;\n",
              "    }\n",
              "\n",
              "    .dataframe tbody tr th {\n",
              "        vertical-align: top;\n",
              "    }\n",
              "\n",
              "    .dataframe thead th {\n",
              "        text-align: right;\n",
              "    }\n",
              "</style>\n",
              "<table border=\"1\" class=\"dataframe\">\n",
              "  <thead>\n",
              "    <tr style=\"text-align: right;\">\n",
              "      <th></th>\n",
              "      <th>Timestamp</th>\n",
              "      <th>Email Address</th>\n",
              "      <th>Score</th>\n",
              "      <th>Name</th>\n",
              "      <th>USN</th>\n",
              "      <th>Semester</th>\n",
              "    </tr>\n",
              "  </thead>\n",
              "  <tbody>\n",
              "    <tr>\n",
              "      <th>0</th>\n",
              "      <td>16/08/2021 10:43:28</td>\n",
              "      <td>hi.vjkr@gmail.com</td>\n",
              "      <td>60 / 60</td>\n",
              "      <td>Nischal Sajjan</td>\n",
              "      <td>2bl05ec086</td>\n",
              "      <td>II</td>\n",
              "    </tr>\n",
              "    <tr>\n",
              "      <th>1</th>\n",
              "      <td>16/08/2021 10:46:40</td>\n",
              "      <td>ec.vijaykumar@bldeacet.ac.in</td>\n",
              "      <td>60 / 60</td>\n",
              "      <td>Avni RajinderKumar Math</td>\n",
              "      <td>2bl05ec086</td>\n",
              "      <td>II</td>\n",
              "    </tr>\n",
              "    <tr>\n",
              "      <th>2</th>\n",
              "      <td>16/08/2021 10:55:19</td>\n",
              "      <td>rajindermath@gmail.com</td>\n",
              "      <td>60 / 60</td>\n",
              "      <td>Atharv</td>\n",
              "      <td>2bl05ec086</td>\n",
              "      <td>VI</td>\n",
              "    </tr>\n",
              "    <tr>\n",
              "      <th>3</th>\n",
              "      <td>18/08/2021 10:07:06</td>\n",
              "      <td>hi.vjkr@gmail.com</td>\n",
              "      <td>50 / 60</td>\n",
              "      <td>Mallikarjun D</td>\n",
              "      <td>2bl05ec086</td>\n",
              "      <td>II</td>\n",
              "    </tr>\n",
              "    <tr>\n",
              "      <th>4</th>\n",
              "      <td>18/08/2021 10:08:48</td>\n",
              "      <td>ec.vijaykumar@bldeacet.ac.in</td>\n",
              "      <td>50 / 60</td>\n",
              "      <td>Achyut S Y</td>\n",
              "      <td>2bl05ec086</td>\n",
              "      <td>IV</td>\n",
              "    </tr>\n",
              "    <tr>\n",
              "      <th>5</th>\n",
              "      <td>18/08/2021 10:11:35</td>\n",
              "      <td>rajindermath@gmail.com</td>\n",
              "      <td>40 / 60</td>\n",
              "      <td>Vijaykumar Sajjanar</td>\n",
              "      <td>2bl05ec086</td>\n",
              "      <td>IV</td>\n",
              "    </tr>\n",
              "    <tr>\n",
              "      <th>6</th>\n",
              "      <td>18/08/2021 10:15:27</td>\n",
              "      <td>hi.vjkr@gmail.com</td>\n",
              "      <td>40 / 60</td>\n",
              "      <td>Rajinder Math</td>\n",
              "      <td>2bl05ec086</td>\n",
              "      <td>IV</td>\n",
              "    </tr>\n",
              "    <tr>\n",
              "      <th>7</th>\n",
              "      <td>18/08/2021 10:18:30</td>\n",
              "      <td>ec.vijaykumar@bldeacet.ac.in</td>\n",
              "      <td>60 / 60</td>\n",
              "      <td>Hatti Ravi</td>\n",
              "      <td>2bl05ec086</td>\n",
              "      <td>IV</td>\n",
              "    </tr>\n",
              "  </tbody>\n",
              "</table>\n",
              "</div>\n",
              "      <button class=\"colab-df-convert\" onclick=\"convertToInteractive('df-bf3334fa-1377-4048-8fb2-0c1b09284273')\"\n",
              "              title=\"Convert this dataframe to an interactive table.\"\n",
              "              style=\"display:none;\">\n",
              "        \n",
              "  <svg xmlns=\"http://www.w3.org/2000/svg\" height=\"24px\"viewBox=\"0 0 24 24\"\n",
              "       width=\"24px\">\n",
              "    <path d=\"M0 0h24v24H0V0z\" fill=\"none\"/>\n",
              "    <path d=\"M18.56 5.44l.94 2.06.94-2.06 2.06-.94-2.06-.94-.94-2.06-.94 2.06-2.06.94zm-11 1L8.5 8.5l.94-2.06 2.06-.94-2.06-.94L8.5 2.5l-.94 2.06-2.06.94zm10 10l.94 2.06.94-2.06 2.06-.94-2.06-.94-.94-2.06-.94 2.06-2.06.94z\"/><path d=\"M17.41 7.96l-1.37-1.37c-.4-.4-.92-.59-1.43-.59-.52 0-1.04.2-1.43.59L10.3 9.45l-7.72 7.72c-.78.78-.78 2.05 0 2.83L4 21.41c.39.39.9.59 1.41.59.51 0 1.02-.2 1.41-.59l7.78-7.78 2.81-2.81c.8-.78.8-2.07 0-2.86zM5.41 20L4 18.59l7.72-7.72 1.47 1.35L5.41 20z\"/>\n",
              "  </svg>\n",
              "      </button>\n",
              "      \n",
              "  <style>\n",
              "    .colab-df-container {\n",
              "      display:flex;\n",
              "      flex-wrap:wrap;\n",
              "      gap: 12px;\n",
              "    }\n",
              "\n",
              "    .colab-df-convert {\n",
              "      background-color: #E8F0FE;\n",
              "      border: none;\n",
              "      border-radius: 50%;\n",
              "      cursor: pointer;\n",
              "      display: none;\n",
              "      fill: #1967D2;\n",
              "      height: 32px;\n",
              "      padding: 0 0 0 0;\n",
              "      width: 32px;\n",
              "    }\n",
              "\n",
              "    .colab-df-convert:hover {\n",
              "      background-color: #E2EBFA;\n",
              "      box-shadow: 0px 1px 2px rgba(60, 64, 67, 0.3), 0px 1px 3px 1px rgba(60, 64, 67, 0.15);\n",
              "      fill: #174EA6;\n",
              "    }\n",
              "\n",
              "    [theme=dark] .colab-df-convert {\n",
              "      background-color: #3B4455;\n",
              "      fill: #D2E3FC;\n",
              "    }\n",
              "\n",
              "    [theme=dark] .colab-df-convert:hover {\n",
              "      background-color: #434B5C;\n",
              "      box-shadow: 0px 1px 3px 1px rgba(0, 0, 0, 0.15);\n",
              "      filter: drop-shadow(0px 1px 2px rgba(0, 0, 0, 0.3));\n",
              "      fill: #FFFFFF;\n",
              "    }\n",
              "  </style>\n",
              "\n",
              "      <script>\n",
              "        const buttonEl =\n",
              "          document.querySelector('#df-bf3334fa-1377-4048-8fb2-0c1b09284273 button.colab-df-convert');\n",
              "        buttonEl.style.display =\n",
              "          google.colab.kernel.accessAllowed ? 'block' : 'none';\n",
              "\n",
              "        async function convertToInteractive(key) {\n",
              "          const element = document.querySelector('#df-bf3334fa-1377-4048-8fb2-0c1b09284273');\n",
              "          const dataTable =\n",
              "            await google.colab.kernel.invokeFunction('convertToInteractive',\n",
              "                                                     [key], {});\n",
              "          if (!dataTable) return;\n",
              "\n",
              "          const docLinkHtml = 'Like what you see? Visit the ' +\n",
              "            '<a target=\"_blank\" href=https://colab.research.google.com/notebooks/data_table.ipynb>data table notebook</a>'\n",
              "            + ' to learn more about interactive tables.';\n",
              "          element.innerHTML = '';\n",
              "          dataTable['output_type'] = 'display_data';\n",
              "          await google.colab.output.renderOutput(dataTable, element);\n",
              "          const docLink = document.createElement('div');\n",
              "          docLink.innerHTML = docLinkHtml;\n",
              "          element.appendChild(docLink);\n",
              "        }\n",
              "      </script>\n",
              "    </div>\n",
              "  </div>\n",
              "  "
            ]
          },
          "metadata": {},
          "execution_count": 3
        }
      ]
    },
    {
      "cell_type": "markdown",
      "metadata": {
        "id": "hefe-utfe71K"
      },
      "source": [
        "# Load Blank Certificate and fonts from Google Drive"
      ]
    },
    {
      "cell_type": "code",
      "metadata": {
        "id": "lCRDt95HVl8T"
      },
      "source": [
        "fileDownloaded = drive.CreateFile({'id':'1UHtxwV3e_OyGQGopLz-PBVt9U1X3quOu'})\n",
        "fileDownloaded.GetContentFile('BlankCertificate.jpg')\n",
        "fileDownloaded = drive.CreateFile({'id':'1JfMjm5ZffEo2shtZko2LC793GB654iys'})\n",
        "fileDownloaded.GetContentFile('font_playfair.ttf')"
      ],
      "execution_count": null,
      "outputs": []
    },
    {
      "cell_type": "markdown",
      "metadata": {
        "id": "R15k6qVJfFYx"
      },
      "source": [
        "# Read Names and USN from dataframe\n",
        "# Add them on certicate at approriate pixel positions\n",
        "# Pixel positions can be obtained using any image editor. Ex: MS Paint"
      ]
    },
    {
      "cell_type": "code",
      "metadata": {
        "id": "N7aNBlhnV9Yn",
        "outputId": "6f9e3238-137c-4b0c-b85c-a4ee3664abac",
        "colab": {
          "base_uri": "https://localhost:8080/"
        }
      },
      "source": [
        "from PIL import Image, ImageFont, ImageDraw \n",
        "df_name=df['Name']\n",
        "df_usn=df['USN']\n",
        "index = df.index\n",
        "number_of_rows = len(index) \n",
        "for i in range(number_of_rows):\n",
        "  name_text = df_name[i]\n",
        "  usn_text=df_usn[i]\n",
        "  my_image = Image.open(\"BlankCertificate.jpg\")\n",
        "  image_editable = ImageDraw.Draw(my_image)\n",
        "  name_font = ImageFont.truetype('font_playfair.ttf', 150)\n",
        "  image_editable.text((250,250), name_text, (128,0,128), font=name_font)\n",
        "  usn_font = ImageFont.truetype('font_playfair.ttf', 70)\n",
        "  image_editable.text((250,500), usn_text, (128,0,128), font=usn_font)\n",
        "  i=str(i)\n",
        "  downfile=(name_text+\"_BLDEACET_EC\"+\".jpg\")\n",
        "  print(downfile)\n",
        "  my_image.save(downfile)"
      ],
      "execution_count": null,
      "outputs": [
        {
          "output_type": "stream",
          "name": "stdout",
          "text": [
            "Nischal Sajjan_BLDEACET_EC.jpg\n",
            "Avni RajinderKumar Math_BLDEACET_EC.jpg\n",
            "Atharv_BLDEACET_EC.jpg\n",
            "Mallikarjun D_BLDEACET_EC.jpg\n",
            "Achyut S Y_BLDEACET_EC.jpg\n",
            "Vijaykumar Sajjanar_BLDEACET_EC.jpg\n",
            "Rajinder Math_BLDEACET_EC.jpg\n",
            "Hatti Ravi_BLDEACET_EC.jpg\n"
          ]
        }
      ]
    },
    {
      "cell_type": "markdown",
      "metadata": {
        "id": "g4rrYaqbfdrw"
      },
      "source": [
        "# Download all images(certificates) to local system in a zipped folder "
      ]
    },
    {
      "cell_type": "code",
      "metadata": {
        "id": "XfqxNuqyZx7h",
        "outputId": "58074c37-b5e9-4787-917b-9a8296057e9a",
        "colab": {
          "base_uri": "https://localhost:8080/",
          "height": 173
        }
      },
      "source": [
        "!zip -r /content/Certificates_EFY.zip /content/*.jpg\n",
        "from google.colab import files\n",
        "files.download('/content/Certificates_EFY.zip')"
      ],
      "execution_count": null,
      "outputs": [
        {
          "output_type": "stream",
          "name": "stdout",
          "text": [
            "  adding: content/Achyut S Y_BLDEACET_EC.jpg (deflated 0%)\n",
            "  adding: content/Atharv_BLDEACET_EC.jpg (deflated 0%)\n",
            "  adding: content/Avni RajinderKumar Math_BLDEACET_EC.jpg (deflated 0%)\n",
            "  adding: content/BlankCertificate.jpg (deflated 0%)\n",
            "  adding: content/Hatti Ravi_BLDEACET_EC.jpg (deflated 0%)\n",
            "  adding: content/Mallikarjun D_BLDEACET_EC.jpg (deflated 0%)\n",
            "  adding: content/Nischal Sajjan_BLDEACET_EC.jpg (deflated 0%)\n",
            "  adding: content/Rajinder Math_BLDEACET_EC.jpg (deflated 0%)\n",
            "  adding: content/Vijaykumar Sajjanar_BLDEACET_EC.jpg (deflated 0%)\n"
          ]
        },
        {
          "output_type": "display_data",
          "data": {
            "text/plain": [
              "<IPython.core.display.Javascript object>"
            ],
            "application/javascript": [
              "\n",
              "    async function download(id, filename, size) {\n",
              "      if (!google.colab.kernel.accessAllowed) {\n",
              "        return;\n",
              "      }\n",
              "      const div = document.createElement('div');\n",
              "      const label = document.createElement('label');\n",
              "      label.textContent = `Downloading \"${filename}\": `;\n",
              "      div.appendChild(label);\n",
              "      const progress = document.createElement('progress');\n",
              "      progress.max = size;\n",
              "      div.appendChild(progress);\n",
              "      document.body.appendChild(div);\n",
              "\n",
              "      const buffers = [];\n",
              "      let downloaded = 0;\n",
              "\n",
              "      const channel = await google.colab.kernel.comms.open(id);\n",
              "      // Send a message to notify the kernel that we're ready.\n",
              "      channel.send({})\n",
              "\n",
              "      for await (const message of channel.messages) {\n",
              "        // Send a message to notify the kernel that we're ready.\n",
              "        channel.send({})\n",
              "        if (message.buffers) {\n",
              "          for (const buffer of message.buffers) {\n",
              "            buffers.push(buffer);\n",
              "            downloaded += buffer.byteLength;\n",
              "            progress.value = downloaded;\n",
              "          }\n",
              "        }\n",
              "      }\n",
              "      const blob = new Blob(buffers, {type: 'application/binary'});\n",
              "      const a = document.createElement('a');\n",
              "      a.href = window.URL.createObjectURL(blob);\n",
              "      a.download = filename;\n",
              "      div.appendChild(a);\n",
              "      a.click();\n",
              "      div.remove();\n",
              "    }\n",
              "  "
            ]
          },
          "metadata": {}
        },
        {
          "output_type": "display_data",
          "data": {
            "text/plain": [
              "<IPython.core.display.Javascript object>"
            ],
            "application/javascript": [
              "download(\"download_b97acfe7-1b95-4fd7-b083-f0db48b90cdf\", \"Certificates_EFY.zip\", 11272637)"
            ]
          },
          "metadata": {}
        }
      ]
    },
    {
      "cell_type": "markdown",
      "metadata": {
        "id": "2BfztD5sfn9k"
      },
      "source": [
        "# Code and Project Complete :):)\n",
        "ElectronicsForYou.com\n"
      ]
    }
  ]
}